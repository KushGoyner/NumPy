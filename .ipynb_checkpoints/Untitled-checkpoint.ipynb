{
 "cells": [
  {
   "cell_type": "code",
   "execution_count": 10,
   "id": "b674ac64-8ff0-4cd7-b87e-ec5695cac600",
   "metadata": {},
   "outputs": [
    {
     "name": "stdout",
     "output_type": "stream",
     "text": [
      "48.9 μs ± 1.79 μs per loop (mean ± std. dev. of 7 runs, 10,000 loops each)\n"
     ]
    }
   ],
   "source": [
    "%timeit [j**4 for j in range(1,1000)]"
   ]
  },
  {
   "cell_type": "code",
   "execution_count": 11,
   "id": "b0705013-cc04-4036-81ed-2ba62e29387b",
   "metadata": {},
   "outputs": [
    {
     "name": "stdout",
     "output_type": "stream",
     "text": [
      "2.72 μs ± 68.3 ns per loop (mean ± std. dev. of 7 runs, 100,000 loops each)\n"
     ]
    }
   ],
   "source": [
    "import numpy as np\n",
    "%timeit np.arange(1,1000)**4"
   ]
  },
  {
   "cell_type": "markdown",
   "id": "d6157129-b8c6-4d8a-b0b8-4351716cf291",
   "metadata": {},
   "source": [
    "# Arrays"
   ]
  },
  {
   "cell_type": "code",
   "execution_count": null,
   "id": "c4f51478-c481-42bf-88e2-b76b8126b8a0",
   "metadata": {},
   "outputs": [],
   "source": [
    "import numpy as np\n",
    "%timeit a = np.array([1, 2, 3])\n",
    "print(a)"
   ]
  },
  {
   "cell_type": "code",
   "execution_count": 17,
   "id": "43a03eba-6749-4d29-8c1a-741c467232cf",
   "metadata": {},
   "outputs": [
    {
     "data": {
      "text/plain": [
       "array([1, 2, 3, 4])"
      ]
     },
     "execution_count": 17,
     "metadata": {},
     "output_type": "execute_result"
    }
   ],
   "source": [
    "import numpy as np\n",
    "c = [1,2,3,4]\n",
    "y = np.array(c)\n",
    "y"
   ]
  },
  {
   "cell_type": "code",
   "execution_count": 20,
   "id": "bb602fd4-3002-402c-8975-ef689425df40",
   "metadata": {},
   "outputs": [
    {
     "name": "stdin",
     "output_type": "stream",
     "text": [
      "Enter a value:  1\n",
      "Enter a value:  2\n",
      "Enter a value:  3\n",
      "Enter a value:  4\n"
     ]
    },
    {
     "name": "stdout",
     "output_type": "stream",
     "text": [
      "[1 2 3 4]\n"
     ]
    }
   ],
   "source": [
    "l = []\n",
    "for i in range(1,5):\n",
    "    int_1 = int(input(\"Enter a value: \"))\n",
    "    l.append(int_1)\n",
    "print(np.array(l))"
   ]
  },
  {
   "cell_type": "markdown",
   "id": "ad97a0c8-d990-42a9-bdd1-b8af7a581496",
   "metadata": {},
   "source": [
    "# Types of Array"
   ]
  },
  {
   "cell_type": "code",
   "execution_count": 21,
   "id": "e0c2a389-daec-4120-b672-d5f9a70c323f",
   "metadata": {},
   "outputs": [
    {
     "name": "stdout",
     "output_type": "stream",
     "text": [
      "1\n"
     ]
    }
   ],
   "source": [
    "import numpy as np\n",
    "c = [1,2,3,4]\n",
    "y = np.array(c)\n",
    "print(y.ndim)"
   ]
  },
  {
   "cell_type": "code",
   "execution_count": 29,
   "id": "4ada98a9-be7b-4e94-818d-cc8ca53b406d",
   "metadata": {},
   "outputs": [
    {
     "name": "stdout",
     "output_type": "stream",
     "text": [
      "2\n",
      "[[1 2 3]\n",
      " [4 5 6]]\n"
     ]
    }
   ],
   "source": [
    "ar2 = np.array([[1,2,3],[4,5,6]])\n",
    "print(ar2.ndim)\n",
    "print(ar2)"
   ]
  },
  {
   "cell_type": "markdown",
   "id": "0073b4fd-c4f2-452d-82e9-7e8b5e8289ea",
   "metadata": {},
   "source": [
    "# Numpy Array using functions"
   ]
  },
  {
   "cell_type": "markdown",
   "id": "f6fe1409-7ee2-49d9-bb3c-55591dcad17b",
   "metadata": {},
   "source": [
    "# 1. zeroes Array"
   ]
  },
  {
   "cell_type": "code",
   "execution_count": 32,
   "id": "dd95369a-47b8-4dd3-8dae-61daeb84d8e7",
   "metadata": {},
   "outputs": [
    {
     "name": "stdout",
     "output_type": "stream",
     "text": [
      "[0. 0. 0. 0.] \n",
      " [[0. 0. 0. 0.]\n",
      " [0. 0. 0. 0.]\n",
      " [0. 0. 0. 0.]]\n"
     ]
    }
   ],
   "source": [
    "ar_zero = np.zeros(4)\n",
    "ar1 = np.zeros((3,4))\n",
    "print(ar_zero,\"\\n\",ar1)"
   ]
  },
  {
   "cell_type": "markdown",
   "id": "36244066-0bfd-4033-8b88-9c9f3a870120",
   "metadata": {},
   "source": [
    "# 2. Ones Array"
   ]
  },
  {
   "cell_type": "code",
   "execution_count": 33,
   "id": "7f64e960-a774-425f-8298-30b9f54b0890",
   "metadata": {},
   "outputs": [
    {
     "name": "stdout",
     "output_type": "stream",
     "text": [
      "[[1. 1. 1. 1.]\n",
      " [1. 1. 1. 1.]\n",
      " [1. 1. 1. 1.]]\n"
     ]
    }
   ],
   "source": [
    "ar = np.ones((3,4))\n",
    "print(ar)"
   ]
  },
  {
   "cell_type": "code",
   "execution_count": 38,
   "id": "e78f0665-1bfb-4150-8b50-b3785732240a",
   "metadata": {},
   "outputs": [
    {
     "name": "stdout",
     "output_type": "stream",
     "text": [
      "[0 1 2 3]\n"
     ]
    }
   ],
   "source": [
    "a = np.arange(0,4)\n",
    "print(a)"
   ]
  },
  {
   "cell_type": "code",
   "execution_count": 45,
   "id": "fef67771-0a9a-4b3f-8e88-b9d5d1aaf114",
   "metadata": {},
   "outputs": [
    {
     "data": {
      "text/plain": [
       "array([0.49794223, 0.65132853])"
      ]
     },
     "execution_count": 45,
     "metadata": {},
     "output_type": "execute_result"
    }
   ],
   "source": [
    "a = np.random.ranf(2)\n",
    "a"
   ]
  },
  {
   "cell_type": "code",
   "execution_count": 47,
   "id": "12a6ea8f-9eec-46d8-b2b0-0db92706e88e",
   "metadata": {},
   "outputs": [
    {
     "data": {
      "text/plain": [
       "array([3, 6, 2, 2, 3, 4, 4, 5, 6, 4], dtype=int32)"
      ]
     },
     "execution_count": 47,
     "metadata": {},
     "output_type": "execute_result"
    }
   ],
   "source": [
    "a  = np.random.randint(1,10,10)\n",
    "a"
   ]
  },
  {
   "cell_type": "markdown",
   "id": "e5aa48be-9065-4e93-85f9-dd7ab313ace5",
   "metadata": {},
   "source": [
    "# Data types in Arrays"
   ]
  },
  {
   "cell_type": "code",
   "execution_count": 49,
   "id": "31365a68-5bb3-49f9-b652-d261c99d3c78",
   "metadata": {},
   "outputs": [
    {
     "name": "stdout",
     "output_type": "stream",
     "text": [
      "DATA TYPE:  int64\n"
     ]
    }
   ],
   "source": [
    "var = np.array([1,2,3,4])\n",
    "print(\"DATA TYPE: \",var.dtype)"
   ]
  },
  {
   "cell_type": "code",
   "execution_count": 50,
   "id": "2d8d0ed9-950e-4ef0-9801-a2c3b5347454",
   "metadata": {},
   "outputs": [
    {
     "name": "stdout",
     "output_type": "stream",
     "text": [
      "DATA TYPE:  float64\n"
     ]
    }
   ],
   "source": [
    "a = np.array([1.2,1.3,1.4,1.5])\n",
    "print(\"DATA TYPE: \",a.dtype)"
   ]
  },
  {
   "cell_type": "code",
   "execution_count": 51,
   "id": "2b11b246-c0ba-4c11-b321-06ef015b11cf",
   "metadata": {},
   "outputs": [
    {
     "name": "stdout",
     "output_type": "stream",
     "text": [
      "DATA TYPE:  <U1\n"
     ]
    }
   ],
   "source": [
    "a = np.array([\"A\",\"B\",\"C\"])\n",
    "print(\"DATA TYPE: \",a.dtype)"
   ]
  },
  {
   "cell_type": "code",
   "execution_count": 52,
   "id": "149eb272-da07-4e7d-a934-959f6dacbe96",
   "metadata": {},
   "outputs": [
    {
     "name": "stdout",
     "output_type": "stream",
     "text": [
      "DATA TYPE:  <U32\n"
     ]
    }
   ],
   "source": [
    "a = np.array([1.2,1.3,1.4,1.5,\"a\",\"B\",\"C\"])\n",
    "print(\"DATA TYPE: \",a.dtype)"
   ]
  },
  {
   "cell_type": "code",
   "execution_count": 57,
   "id": "3ad8bc1d-7110-43b7-9ae3-822dfae4ac27",
   "metadata": {},
   "outputs": [
    {
     "data": {
      "text/plain": [
       "dtype('float32')"
      ]
     },
     "execution_count": 57,
     "metadata": {},
     "output_type": "execute_result"
    }
   ],
   "source": [
    " A = np.array([1,2,3],dtype=\"f\")\n",
    "A.dtype"
   ]
  },
  {
   "cell_type": "code",
   "execution_count": 60,
   "id": "41686ed9-3f55-4f03-8dbb-2a976b863228",
   "metadata": {},
   "outputs": [
    {
     "name": "stdout",
     "output_type": "stream",
     "text": [
      "[1. 2. 3.]\n"
     ]
    },
    {
     "data": {
      "text/plain": [
       "dtype('float32')"
      ]
     },
     "execution_count": 60,
     "metadata": {},
     "output_type": "execute_result"
    }
   ],
   "source": [
    "new = np.float32(A)\n",
    "print(new)\n",
    "new.dtype"
   ]
  },
  {
   "cell_type": "code",
   "execution_count": 62,
   "id": "08a49f59-a788-4bf1-8697-ecaa76508049",
   "metadata": {},
   "outputs": [
    {
     "name": "stdout",
     "output_type": "stream",
     "text": [
      "[1 2 3 4]\n",
      "[1. 2. 3. 4.]\n"
     ]
    }
   ],
   "source": [
    "x3 = np.array([1,2,3,4])\n",
    "new_1 = x3.astype(float)\n",
    "print(x3)\n",
    "print(new_1)\n"
   ]
  },
  {
   "cell_type": "markdown",
   "id": "1d7c3e12-4c63-46da-81f6-380971dcfa76",
   "metadata": {},
   "source": [
    "# Arithmetic Operation in Numpy Arrays"
   ]
  },
  {
   "cell_type": "markdown",
   "id": "bd7c994b-fbd0-459f-a367-902d1c7e65ab",
   "metadata": {},
   "source": [
    "# 1. Addition"
   ]
  },
  {
   "cell_type": "code",
   "execution_count": 65,
   "id": "c8ffc6cf-e10c-48af-a18f-876f896513be",
   "metadata": {},
   "outputs": [
    {
     "name": "stdout",
     "output_type": "stream",
     "text": [
      "[3 4 5 6]\n",
      "[2 4 6 8]\n"
     ]
    }
   ],
   "source": [
    "var = np.array([1,2,3,4])\n",
    "varadd = var + 2\n",
    "print(varadd)\n",
    "\n",
    "var2 = np.array([1,2,3,4])\n",
    "var3 = var + var2\n",
    "print(var3)"
   ]
  },
  {
   "cell_type": "markdown",
   "id": "c6069811-1a5b-412f-b575-e32e3e8cd959",
   "metadata": {},
   "source": [
    "# 2. Substraction"
   ]
  },
  {
   "cell_type": "code",
   "execution_count": 67,
   "id": "ac25610c-29de-44bb-834b-ecc90824f385",
   "metadata": {},
   "outputs": [
    {
     "name": "stdout",
     "output_type": "stream",
     "text": [
      "[-1  0  1  2]\n",
      "[0 0 0 0]\n"
     ]
    }
   ],
   "source": [
    "var = np.array([1,2,3,4])\n",
    "varadd = var - 2\n",
    "print(varadd)\n",
    "\n",
    "var2 = np.array([1,2,3,4])\n",
    "var3 = var - var2\n",
    "print(var3)"
   ]
  },
  {
   "cell_type": "markdown",
   "id": "b16c8b4b-33db-48cd-b591-0a081317cfff",
   "metadata": {},
   "source": [
    "# 3. Multiply"
   ]
  },
  {
   "cell_type": "code",
   "execution_count": 68,
   "id": "60eab7ff-de9f-4e2f-8b8c-da80907379ce",
   "metadata": {},
   "outputs": [
    {
     "name": "stdout",
     "output_type": "stream",
     "text": [
      "[2 4 6 8]\n",
      "[ 1  4  9 16]\n"
     ]
    }
   ],
   "source": [
    "var = np.array([1,2,3,4])\n",
    "varadd = var * 2\n",
    "print(varadd)\n",
    "\n",
    "var2 = np.array([1,2,3,4])\n",
    "var3 = var * var2\n",
    "print(var3)"
   ]
  },
  {
   "cell_type": "markdown",
   "id": "1be1b77f-11db-4e1e-a8f3-dfc3580e46f9",
   "metadata": {},
   "source": [
    "# 4. Divide"
   ]
  },
  {
   "cell_type": "code",
   "execution_count": 71,
   "id": "d17cf78f-cfd8-45f7-afdc-cab6d3dba848",
   "metadata": {},
   "outputs": [
    {
     "name": "stdout",
     "output_type": "stream",
     "text": [
      "[0.5 1.  1.5 2. ]\n",
      "[1. 1. 1. 1.]\n"
     ]
    }
   ],
   "source": [
    "var = np.array([1,2,3,4])\n",
    "varadd = var / 2\n",
    "print(varadd)\n",
    "\n",
    "var2 = np.array([1,2,3,4])\n",
    "var3 = var / var2\n",
    "print(var3)"
   ]
  },
  {
   "cell_type": "markdown",
   "id": "11fb7b93-230f-4106-b89d-4516654fe9a3",
   "metadata": {},
   "source": [
    "# Modulas"
   ]
  },
  {
   "cell_type": "code",
   "execution_count": 72,
   "id": "c9751f40-c6a1-473b-9356-aad6e16b35d3",
   "metadata": {},
   "outputs": [
    {
     "name": "stdout",
     "output_type": "stream",
     "text": [
      "[1 0 1 0]\n",
      "[0 0 0 0]\n"
     ]
    }
   ],
   "source": [
    "var = np.array([1,2,3,4])\n",
    "varadd = var % 2\n",
    "print(varadd)\n",
    "\n",
    "var2 = np.array([1,2,3,4])\n",
    "var3 = var % var2\n",
    "print(var3)"
   ]
  },
  {
   "cell_type": "markdown",
   "id": "34f7650b-dc2d-40db-b55e-f76b812c4ed6",
   "metadata": {},
   "source": [
    "# Arithmetic functions"
   ]
  },
  {
   "cell_type": "markdown",
   "id": "29acb118-d4fe-4f90-9083-d60df6bb148f",
   "metadata": {},
   "source": [
    "# 1. min and max"
   ]
  },
  {
   "cell_type": "code",
   "execution_count": 74,
   "id": "1010ebba-a9ae-4965-8b92-24117461e7a4",
   "metadata": {},
   "outputs": [
    {
     "name": "stdout",
     "output_type": "stream",
     "text": [
      "1\n",
      "4\n"
     ]
    }
   ],
   "source": [
    "var = np.array([1,2,3,4])\n",
    "print(np.min(var))\n",
    "print(np.max(var))"
   ]
  },
  {
   "cell_type": "markdown",
   "id": "59b3dece-375c-4d9c-8055-3b61419ec1a4",
   "metadata": {},
   "source": [
    "# 2. Other function"
   ]
  },
  {
   "cell_type": "code",
   "execution_count": 76,
   "id": "d033a8a4-4d41-4c43-a004-94382d5232d5",
   "metadata": {},
   "outputs": [
    {
     "name": "stdout",
     "output_type": "stream",
     "text": [
      "0\n",
      "3\n",
      "[1.         1.41421356 1.73205081 2.        ]\n",
      "[ 0.84147098  0.90929743  0.14112001 -0.7568025 ]\n",
      "[ 0.54030231 -0.41614684 -0.9899925  -0.65364362]\n",
      "[ 1  3  6 10]\n"
     ]
    }
   ],
   "source": [
    "var = np.array([1,2,3,4])\n",
    "print(np.argmin(var))\n",
    "print(np.argmax(var))\n",
    "print(np.sqrt(var))\n",
    "print(np.sin(var))\n",
    "print(np.cos(var))\n",
    "print(np.cumsum(var))"
   ]
  },
  {
   "cell_type": "markdown",
   "id": "f0da920a-7693-4eb6-be01-18a1e28c3f71",
   "metadata": {},
   "source": [
    "# Shape and Reshaping"
   ]
  },
  {
   "cell_type": "code",
   "execution_count": 7,
   "id": "6ef41f6e-c67a-44c9-8770-5587cf7e0d53",
   "metadata": {},
   "outputs": [
    {
     "name": "stdout",
     "output_type": "stream",
     "text": [
      "(2, 3)\n"
     ]
    }
   ],
   "source": [
    "import numpy as np\n",
    "var = np.array([[1,2,3],[1,2,3]])\n",
    "print(var.shape)\n"
   ]
  },
  {
   "cell_type": "code",
   "execution_count": 9,
   "id": "7423ecf2-16ee-42e0-aebc-c759c55d1be5",
   "metadata": {},
   "outputs": [
    {
     "name": "stdout",
     "output_type": "stream",
     "text": [
      "(1, 1, 1, 4)\n"
     ]
    }
   ],
   "source": [
    "var = np.array([1,2,3,4],ndmin=4)\n",
    "print(var.shape)"
   ]
  },
  {
   "cell_type": "markdown",
   "id": "31829a9c-3a39-4731-80ad-3f9457a6eee3",
   "metadata": {},
   "source": [
    "# Reshape"
   ]
  },
  {
   "cell_type": "code",
   "execution_count": 13,
   "id": "b1a1e223-b9d2-40e3-a0e0-c9933676eac5",
   "metadata": {},
   "outputs": [
    {
     "name": "stdout",
     "output_type": "stream",
     "text": [
      "[[1 2]\n",
      " [3 4]\n",
      " [5 6]]\n"
     ]
    }
   ],
   "source": [
    "var = np.array([1,2,3,4,5,6])\n",
    "x = var.reshape(3,2)\n",
    "print(x)"
   ]
  },
  {
   "cell_type": "code",
   "execution_count": 15,
   "id": "892c353a-4a6e-43f8-9bbb-bf699a9a748e",
   "metadata": {},
   "outputs": [
    {
     "name": "stdout",
     "output_type": "stream",
     "text": [
      "[[[ 1  2]\n",
      "  [ 3  4]\n",
      "  [ 5  6]]\n",
      "\n",
      " [[ 7  8]\n",
      "  [ 9 10]\n",
      "  [11 12]]]\n"
     ]
    }
   ],
   "source": [
    "var = np.array([1,2,3,4,5,6,7,8,9,10,11,12])\n",
    "x = var.reshape(2,3,2)\n",
    "print(x)"
   ]
  },
  {
   "cell_type": "code",
   "execution_count": 19,
   "id": "1a93d013-3ddc-4338-a3cb-cca6ee66ed0b",
   "metadata": {},
   "outputs": [
    {
     "name": "stdout",
     "output_type": "stream",
     "text": [
      "[[[ 1  2]\n",
      "  [ 3  4]\n",
      "  [ 5  6]]\n",
      "\n",
      " [[ 7  8]\n",
      "  [ 9 10]\n",
      "  [11 12]]]\n",
      "[[[ 1  2]\n",
      "  [ 3  4]\n",
      "  [ 5  6]]\n",
      "\n",
      " [[ 7  8]\n",
      "  [ 9 10]\n",
      "  [11 12]]]\n"
     ]
    }
   ],
   "source": [
    "var = np.array([1,2,3,4,5,6,7,8,9,10,11,12])\n",
    "x = var.reshape(2,3,2)\n",
    "print(x)\n",
    "\n",
    "y = x.reshape(-1)\n",
    "print(x)"
   ]
  },
  {
   "cell_type": "markdown",
   "id": "98eb85d0-19ec-4f45-998b-8f4c501a66e3",
   "metadata": {},
   "source": [
    "# BroadCasting Numpy Array"
   ]
  },
  {
   "cell_type": "code",
   "execution_count": 21,
   "id": "1654e08a-1913-4f03-b2ef-503bf06bae42",
   "metadata": {},
   "outputs": [
    {
     "name": "stdout",
     "output_type": "stream",
     "text": [
      "[[2 3 4]\n",
      " [3 4 5]\n",
      " [4 5 6]\n",
      " [5 6 7]]\n"
     ]
    }
   ],
   "source": [
    "v1 = np.array([1,2,3])\n",
    "v2 = np.array([[1],[2],[3],[4]])\n",
    "v3 = v1+v2\n",
    "print(v3)"
   ]
  },
  {
   "cell_type": "markdown",
   "id": "6d2ca251-0148-472b-b236-ba829ad734c0",
   "metadata": {},
   "source": [
    "# Indexing and slicing"
   ]
  },
  {
   "cell_type": "code",
   "execution_count": 26,
   "id": "baea9a67-57c6-4dfa-8f92-b927ae98b246",
   "metadata": {},
   "outputs": [
    {
     "name": "stdout",
     "output_type": "stream",
     "text": [
      "9\n",
      "6\n"
     ]
    }
   ],
   "source": [
    "var = np.array([9,8,7,6])\n",
    "print(var[0])\n",
    "print(var[-1])"
   ]
  },
  {
   "cell_type": "code",
   "execution_count": 27,
   "id": "bc47ce26-dda9-4a22-aece-229119660bba",
   "metadata": {},
   "outputs": [
    {
     "name": "stdout",
     "output_type": "stream",
     "text": [
      "8\n",
      "6\n"
     ]
    }
   ],
   "source": [
    "var = np.array([[9,1,2],[8,1,2],[7,1,2],[6,1,2]])\n",
    "print(var[1][0])\n",
    "\n",
    "print(var[-1][-3])"
   ]
  },
  {
   "cell_type": "code",
   "execution_count": 32,
   "id": "dc948f2f-8203-4f5e-87ec-730d0162835a",
   "metadata": {},
   "outputs": [
    {
     "name": "stdout",
     "output_type": "stream",
     "text": [
      "\n",
      "[ 1  2  3  4  5  6  7  8  9 10]\n",
      "\n",
      "[1 3 5 7 9]\n",
      "\n",
      "[ 2  3  4  5  6  7  8  9 10]\n",
      "\n",
      "[1 3 5 7 9]\n"
     ]
    }
   ],
   "source": [
    "var = np.array([1,2,3,4,5,6,7,8,9,10])\n",
    "print()\n",
    "print(var)\n",
    "print()\n",
    "print(var[0:9:2])\n",
    "print()\n",
    "print(var[1:])\n",
    "print()\n",
    "print(var[::2])"
   ]
  },
  {
   "cell_type": "markdown",
   "id": "0c160e96-6d79-4e74-b687-feff2a0f63fe",
   "metadata": {},
   "source": [
    "# Iterating"
   ]
  },
  {
   "cell_type": "code",
   "execution_count": 34,
   "id": "7319c379-111e-444c-b01a-5981e1ec9256",
   "metadata": {},
   "outputs": [
    {
     "name": "stdout",
     "output_type": "stream",
     "text": [
      "1\n",
      "2\n",
      "3\n",
      "4\n"
     ]
    }
   ],
   "source": [
    "var = np.array([1,2,3,4])\n",
    "for i in var:\n",
    "    print(i)"
   ]
  },
  {
   "cell_type": "code",
   "execution_count": 39,
   "id": "e29c2adb-369c-4e08-81b6-44e675890275",
   "metadata": {},
   "outputs": [
    {
     "name": "stdout",
     "output_type": "stream",
     "text": [
      "np.bytes_(b'1')\n",
      "np.bytes_(b'2')\n",
      "np.bytes_(b'3')\n",
      "np.bytes_(b'4')\n"
     ]
    }
   ],
   "source": [
    "var = np.array([1,2,3,4])\n",
    "for i in np.nditer(var,flags=['buffered'],op_dtypes=[\"S\"]):\n",
    "    print(i)"
   ]
  },
  {
   "cell_type": "code",
   "execution_count": 4,
   "id": "78179199-5436-44f4-bffe-7d663b373980",
   "metadata": {},
   "outputs": [
    {
     "name": "stdout",
     "output_type": "stream",
     "text": [
      "(0,) 1\n",
      "(1,) 2\n",
      "(2,) 3\n",
      "(3,) 4\n"
     ]
    }
   ],
   "source": [
    "var = np.array([1,2,3,4])\n",
    "for i,d in np.ndenumerate(var):\n",
    "    print(i,d)"
   ]
  },
  {
   "cell_type": "code",
   "execution_count": 3,
   "id": "37e722b2-f5cb-4d4b-8cc0-6d59fa51b69a",
   "metadata": {},
   "outputs": [],
   "source": [
    "import numpy as np"
   ]
  },
  {
   "cell_type": "markdown",
   "id": "e63339e2-142c-4bf1-98fb-9bff7eff2db3",
   "metadata": {},
   "source": [
    "# Copy VS View"
   ]
  },
  {
   "cell_type": "code",
   "execution_count": 7,
   "id": "60a29c1c-5b57-477b-adae-5cde849f676c",
   "metadata": {},
   "outputs": [
    {
     "name": "stdout",
     "output_type": "stream",
     "text": [
      "[1 2 3 4] [1 2 3 4]\n"
     ]
    }
   ],
   "source": [
    "var = np.array([1,2,3,4])\n",
    "\n",
    "var2 = var.copy()\n",
    "\n",
    "print(var,var2)"
   ]
  },
  {
   "cell_type": "code",
   "execution_count": 8,
   "id": "96615a57-5f5d-492e-82e1-6a8c2364ed13",
   "metadata": {},
   "outputs": [
    {
     "name": "stdout",
     "output_type": "stream",
     "text": [
      "[1 2 3 4] [1 2 3 4]\n"
     ]
    }
   ],
   "source": [
    "var = np.array([1,2,3,4])\n",
    "\n",
    "var2 = var.view()\n",
    "\n",
    "print(var,var2)"
   ]
  },
  {
   "cell_type": "markdown",
   "id": "3643fffa-2f46-41f4-9c95-41d5a713299a",
   "metadata": {},
   "source": [
    "# Join and Split Array"
   ]
  },
  {
   "cell_type": "markdown",
   "id": "660c7c03-421d-4fc8-bda3-650b1f4c1d5b",
   "metadata": {},
   "source": [
    "# Join"
   ]
  },
  {
   "cell_type": "code",
   "execution_count": 11,
   "id": "b014b342-fdc1-44b5-96e6-e22a2edcd8ee",
   "metadata": {},
   "outputs": [
    {
     "name": "stdout",
     "output_type": "stream",
     "text": [
      "[1 2 3 4 5 9 8 7 6 5]\n"
     ]
    }
   ],
   "source": [
    "var = np.array([1,2,3,4,5])\n",
    "v2 = np.array([9,8,7,6,5])\n",
    "v3 = np.concatenate((var,v2))\n",
    "\n",
    "print(v3)"
   ]
  },
  {
   "cell_type": "code",
   "execution_count": 14,
   "id": "1f450c50-3cf9-49e8-bbfb-6c008ce6e361",
   "metadata": {},
   "outputs": [
    {
     "name": "stdout",
     "output_type": "stream",
     "text": [
      "[[1 2]\n",
      " [3 4]\n",
      " [9 8]\n",
      " [7 6]]\n"
     ]
    }
   ],
   "source": [
    "var = np.array([[1,2],[3,4]])\n",
    "v2 = np.array([[9,8],[7,6]])\n",
    "v3 = np.concatenate((var,v2),axis=0)\n",
    "\n",
    "print(v3)"
   ]
  },
  {
   "cell_type": "code",
   "execution_count": 16,
   "id": "0803bf76-8df2-462e-abb8-b9c2734a6efe",
   "metadata": {},
   "outputs": [
    {
     "name": "stdout",
     "output_type": "stream",
     "text": [
      "[[1 2 9 8]\n",
      " [3 4 7 6]]\n"
     ]
    }
   ],
   "source": [
    "var = np.array([[1,2],[3,4]])\n",
    "v2 = np.array([[9,8],[7,6]])\n",
    "v3 = np.concatenate((var,v2),axis=1)\n",
    "\n",
    "print(v3)"
   ]
  },
  {
   "cell_type": "code",
   "execution_count": 22,
   "id": "69d00d90-db83-465e-80ed-ff53631e7970",
   "metadata": {},
   "outputs": [
    {
     "name": "stdout",
     "output_type": "stream",
     "text": [
      "[[[1 2]\n",
      "  [3 4]]\n",
      "\n",
      " [[9 8]\n",
      "  [7 6]]]\n"
     ]
    }
   ],
   "source": [
    "var = np.array([[1,2],[3,4]])\n",
    "v2 = np.array([[9,8],[7,6]])\n",
    "v3 = np.stack((var,v2),axis=0)\n",
    "\n",
    "print(v3)"
   ]
  },
  {
   "cell_type": "code",
   "execution_count": 23,
   "id": "76c94737-ef83-4e52-acbf-d84a52eaf656",
   "metadata": {},
   "outputs": [
    {
     "name": "stdout",
     "output_type": "stream",
     "text": [
      "[[1 2 9 8]\n",
      " [3 4 7 6]]\n"
     ]
    }
   ],
   "source": [
    "var = np.array([[1,2],[3,4]])\n",
    "v2 = np.array([[9,8],[7,6]])\n",
    "v3 = np.hstack((var,v2))\n",
    "\n",
    "print(v3)"
   ]
  },
  {
   "cell_type": "code",
   "execution_count": 26,
   "id": "0a5e4763-cf5c-4882-822a-5b39b27e492a",
   "metadata": {},
   "outputs": [
    {
     "name": "stdout",
     "output_type": "stream",
     "text": [
      "[[1 2]\n",
      " [3 4]\n",
      " [9 8]\n",
      " [7 6]]\n"
     ]
    }
   ],
   "source": [
    "var = np.array([[1,2],[3,4]])\n",
    "v2 = np.array([[9,8],[7,6]])\n",
    "v3 = np.vstack((var,v2))\n",
    "\n",
    "print(v3)"
   ]
  },
  {
   "cell_type": "code",
   "execution_count": 27,
   "id": "a117da27-3dc6-4fd3-a7c8-4b69f75a0009",
   "metadata": {},
   "outputs": [
    {
     "name": "stdout",
     "output_type": "stream",
     "text": [
      "[[[1 9]\n",
      "  [2 8]]\n",
      "\n",
      " [[3 7]\n",
      "  [4 6]]]\n"
     ]
    }
   ],
   "source": [
    "var = np.array([[1,2],[3,4]])\n",
    "v2 = np.array([[9,8],[7,6]])\n",
    "v3 = np.dstack((var,v2))\n",
    "\n",
    "print(v3)"
   ]
  },
  {
   "cell_type": "markdown",
   "id": "06580086-9077-4774-9a21-b292d70e6885",
   "metadata": {},
   "source": [
    "# Split Array"
   ]
  },
  {
   "cell_type": "code",
   "execution_count": 29,
   "id": "ed060c76-9d13-4450-95da-4abf994968ef",
   "metadata": {},
   "outputs": [
    {
     "name": "stdout",
     "output_type": "stream",
     "text": [
      "[array([1, 2]), array([3, 4]), array([5])]\n"
     ]
    }
   ],
   "source": [
    "var = np.array([1,2,3,4,5])\n",
    "\n",
    "ar = np.array_split(var,3)\n",
    "\n",
    "print(ar)"
   ]
  },
  {
   "cell_type": "markdown",
   "id": "ffc8f6bf-33b8-46ec-99f0-64316d416cf5",
   "metadata": {},
   "source": [
    "# Array Functions"
   ]
  },
  {
   "cell_type": "markdown",
   "id": "9d29c0bc-2e3c-4f8f-9575-12c2ab5d7d79",
   "metadata": {},
   "source": [
    "# 1. Search"
   ]
  },
  {
   "cell_type": "code",
   "execution_count": 30,
   "id": "749f01c7-4c19-4125-9828-ade4af331e65",
   "metadata": {},
   "outputs": [
    {
     "name": "stdout",
     "output_type": "stream",
     "text": [
      "(array([ 3,  6, 10]),)\n"
     ]
    }
   ],
   "source": [
    "var = np.array([1,2,3,4,5,6,4,7,8,9,4,5])\n",
    "\n",
    "x = np.where(var == 4)\n",
    "\n",
    "print(x)"
   ]
  },
  {
   "cell_type": "code",
   "execution_count": 31,
   "id": "81e21935-6740-43fb-9c85-e1a7d648ca68",
   "metadata": {},
   "outputs": [
    {
     "name": "stdout",
     "output_type": "stream",
     "text": [
      "(array([ 1,  3,  5,  6,  8, 10]),)\n"
     ]
    }
   ],
   "source": [
    "var = np.array([1,2,3,4,5,6,4,7,8,9,4,5])\n",
    "\n",
    "x = np.where(var%2 == 0)\n",
    "\n",
    "print(x)"
   ]
  },
  {
   "cell_type": "markdown",
   "id": "366a77fc-1a91-43d6-b10d-fb11aa068991",
   "metadata": {},
   "source": [
    "# 2. Search Sorted Array"
   ]
  },
  {
   "cell_type": "code",
   "execution_count": 37,
   "id": "fd8aa42f-99fb-40a6-8b8d-96e7e4967bfa",
   "metadata": {},
   "outputs": [
    {
     "name": "stdout",
     "output_type": "stream",
     "text": [
      "5\n"
     ]
    }
   ],
   "source": [
    "var = np.array([1,2,3,4,5,6,7,8])\n",
    "\n",
    "x = np.searchsorted(var,6)\n",
    "\n",
    "print(x)"
   ]
  },
  {
   "cell_type": "markdown",
   "id": "7b39d03b-14d2-4821-b071-644f02264bde",
   "metadata": {},
   "source": [
    "# 3. Sort Array"
   ]
  },
  {
   "cell_type": "code",
   "execution_count": 38,
   "id": "a2419f89-f93d-4f4a-968e-efab5a0c54f1",
   "metadata": {},
   "outputs": [
    {
     "name": "stdout",
     "output_type": "stream",
     "text": [
      "[1 2 2 2 3 4 4 4 5 5 5 7 8 9]\n"
     ]
    }
   ],
   "source": [
    "var = np.array([2,1,5,9,5,7,4,8,2,4,3,2,4,5])\n",
    "\n",
    "x = np.sort(var)\n",
    "\n",
    "print(x)"
   ]
  },
  {
   "cell_type": "markdown",
   "id": "bc692560-edc1-47fb-bf8d-f6325ea5b587",
   "metadata": {},
   "source": [
    "# 4. Filter Array"
   ]
  },
  {
   "cell_type": "code",
   "execution_count": 42,
   "id": "3aea753d-004a-4f1e-bf93-e5fbcca2aec8",
   "metadata": {},
   "outputs": [
    {
     "name": "stdout",
     "output_type": "stream",
     "text": [
      "[2 9]\n"
     ]
    }
   ],
   "source": [
    "var = np.array([2,1,5,9])\n",
    "\n",
    "x = [True,False,False,True]\n",
    "y = var[x]\n",
    "\n",
    "print(y)"
   ]
  },
  {
   "cell_type": "markdown",
   "id": "e20998dc-54b3-4c05-bf9a-437aa6019468",
   "metadata": {},
   "source": [
    "# 5. Shuffle"
   ]
  },
  {
   "cell_type": "code",
   "execution_count": 43,
   "id": "e2a2a064-efc1-4af7-b724-bfd2d90dd322",
   "metadata": {},
   "outputs": [
    {
     "name": "stdout",
     "output_type": "stream",
     "text": [
      "[8 2 3 2 1 7 9 4 4 5 5 5 2 4]\n"
     ]
    }
   ],
   "source": [
    "var = np.array([2,1,5,9,5,7,4,8,2,4,3,2,4,5])\n",
    "\n",
    "np.random.shuffle(var)\n",
    "\n",
    "print(var)"
   ]
  },
  {
   "cell_type": "markdown",
   "id": "e5c9e411-db0f-4f03-b62b-bf1e588b9a6c",
   "metadata": {},
   "source": [
    "# 6. Unique"
   ]
  },
  {
   "cell_type": "code",
   "execution_count": 46,
   "id": "53224b0d-963c-45ee-9365-87a1ef0ca402",
   "metadata": {},
   "outputs": [
    {
     "name": "stdout",
     "output_type": "stream",
     "text": [
      "(array([1, 2, 3, 4, 5, 7, 8, 9]), array([ 1,  0, 10,  6,  2,  5,  7,  3]), array([1, 3, 1, 3, 3, 1, 1, 1]))\n"
     ]
    }
   ],
   "source": [
    "var = np.array([2,1,5,9,5,7,4,8,2,4,3,2,4,5])\n",
    "\n",
    "x = np.unique(var,return_index=True,return_counts=True)\n",
    "\n",
    "print(x)"
   ]
  },
  {
   "cell_type": "markdown",
   "id": "6ab9ddbd-a47d-4bb7-87ee-95000b924a9b",
   "metadata": {},
   "source": [
    "# 7. Resize"
   ]
  },
  {
   "cell_type": "code",
   "execution_count": 47,
   "id": "cca5710a-abf2-4691-9fdf-5ce596120d97",
   "metadata": {},
   "outputs": [
    {
     "name": "stdout",
     "output_type": "stream",
     "text": [
      "[[2 1 5]\n",
      " [9 5 7]]\n"
     ]
    }
   ],
   "source": [
    "var = np.array([2,1,5,9,5,7,4,8,2,4,3,2,4,5])\n",
    "\n",
    "x = np.resize(var,(2,3))\n",
    "\n",
    "print(x)"
   ]
  },
  {
   "cell_type": "markdown",
   "id": "cc93421c-2018-4874-aa0d-edb35da38c9a",
   "metadata": {},
   "source": [
    "# 8. Flatten"
   ]
  },
  {
   "cell_type": "code",
   "execution_count": 48,
   "id": "7c31a788-6e83-4a3d-916d-35525d15fc7d",
   "metadata": {},
   "outputs": [
    {
     "name": "stdout",
     "output_type": "stream",
     "text": [
      "[2 1 5 9 5 7]\n"
     ]
    }
   ],
   "source": [
    "var = np.array([2,1,5,9,5,7,4,8,2,4,3,2,4,5])\n",
    "\n",
    "x = np.resize(var,(2,3))\n",
    "\n",
    "print(x.flatten())"
   ]
  },
  {
   "cell_type": "markdown",
   "id": "faba9360-b3f4-4d1c-b3f0-c012b68ce4c3",
   "metadata": {},
   "source": [
    "# 9. Ravel"
   ]
  },
  {
   "cell_type": "code",
   "execution_count": 50,
   "id": "8d2888e2-ee97-4ce9-a785-cbdb4d67ca78",
   "metadata": {},
   "outputs": [
    {
     "name": "stdout",
     "output_type": "stream",
     "text": [
      "[2 1 5 9 5 7 4 8 2 4 3 2 4 5]\n"
     ]
    }
   ],
   "source": [
    "var = np.array([2,1,5,9,5,7,4,8,2,4,3,2,4,5])\n",
    "\n",
    "x = np.ravel(var)\n",
    "\n",
    "print(x)"
   ]
  },
  {
   "cell_type": "markdown",
   "id": "70b14c49-77f4-4105-bf4b-2b1fad1e5362",
   "metadata": {},
   "source": [
    "# Insert and Delete"
   ]
  },
  {
   "cell_type": "code",
   "execution_count": 53,
   "id": "b989d62f-e7bb-4258-983e-25f0b45418cb",
   "metadata": {},
   "outputs": [
    {
     "name": "stdout",
     "output_type": "stream",
     "text": [
      "[2 1 5 9 5 7 4 8 2 4 3 2 4 5]\n",
      "\n",
      "[ 2  1 40  5  9  5  7  4  8  2  4  3  2  4  5]\n"
     ]
    }
   ],
   "source": [
    "var = np.array([2,1,5,9,5,7,4,8,2,4,3,2,4,5])\n",
    "\n",
    "\n",
    "print(var)\n",
    "print()\n",
    "\n",
    "v= np.insert(var,2,40)\n",
    "print(v)"
   ]
  },
  {
   "cell_type": "code",
   "execution_count": 54,
   "id": "66b77a37-397d-4d5f-a527-2fc240687053",
   "metadata": {},
   "outputs": [
    {
     "name": "stdout",
     "output_type": "stream",
     "text": [
      "[2 1 5 9 5 7 4 8 2 4 3 2 4 5]\n",
      "\n",
      "[ 2  1 40  5  9 40  5  7  4  8  2  4  3  2  4  5]\n"
     ]
    }
   ],
   "source": [
    "var = np.array([2,1,5,9,5,7,4,8,2,4,3,2,4,5])\n",
    "\n",
    "\n",
    "print(var)\n",
    "print()\n",
    "\n",
    "v= np.insert(var,(2,4),40)\n",
    "print(v)"
   ]
  },
  {
   "cell_type": "code",
   "execution_count": 57,
   "id": "43033caa-43c7-4e4f-98e3-8f9aae56bc1b",
   "metadata": {},
   "outputs": [
    {
     "name": "stdout",
     "output_type": "stream",
     "text": [
      "[[2 1 5 9]\n",
      " [5 7 4 8]]\n",
      "\n",
      "[[ 2  1  5  9]\n",
      " [ 5  7  4  8]\n",
      " [40 40 40 40]]\n",
      "[[ 2  1 40  5  9]\n",
      " [ 5  7 40  4  8]]\n"
     ]
    }
   ],
   "source": [
    "var = np.array([[2,1,5,9],[5,7,4,8]])\n",
    "\n",
    "\n",
    "print(var)\n",
    "print()\n",
    "\n",
    "v= np.insert(var,2,40,axis=1)\n",
    "p = np.insert(var,2,40,axis=0)\n",
    "print(p)\n",
    "print(v)"
   ]
  },
  {
   "cell_type": "code",
   "execution_count": 58,
   "id": "04f147c4-5888-49a6-a4d0-ac17629b472c",
   "metadata": {},
   "outputs": [
    {
     "name": "stdout",
     "output_type": "stream",
     "text": [
      "[2 1 5 9 5 7 4 8 2 4 3 2 4 5]\n",
      "\n",
      "[2 1 9 5 7 4 8 2 4 3 2 4 5]\n"
     ]
    }
   ],
   "source": [
    "var = np.array([2,1,5,9,5,7,4,8,2,4,3,2,4,5])\n",
    "\n",
    "\n",
    "print(var)\n",
    "print()\n",
    "\n",
    "v= np.delete(var,2)\n",
    "print(v)"
   ]
  },
  {
   "cell_type": "markdown",
   "id": "1b964856-76c8-4333-ba3c-25ac3f6cfa55",
   "metadata": {},
   "source": [
    "# Matrix"
   ]
  },
  {
   "cell_type": "code",
   "execution_count": 72,
   "id": "57e628b2-81d3-4892-a4e8-aeff739bc71f",
   "metadata": {},
   "outputs": [],
   "source": [
    "var = np.matrix([[1,2,3],[1,2,3]])\n",
    "\n",
    "var1 = np.matrix([[1,2,3],[1,2,3]])\n"
   ]
  },
  {
   "cell_type": "code",
   "execution_count": 63,
   "id": "0cfc8d20-578c-4bb4-9d11-79210feb8c3b",
   "metadata": {},
   "outputs": [
    {
     "name": "stdout",
     "output_type": "stream",
     "text": [
      "[[2 4 6]\n",
      " [2 4 6]]\n"
     ]
    }
   ],
   "source": [
    "print(var + var1)"
   ]
  },
  {
   "cell_type": "code",
   "execution_count": 64,
   "id": "ea3b74e3-1501-48b8-a6ff-135e38f8f739",
   "metadata": {},
   "outputs": [
    {
     "name": "stdout",
     "output_type": "stream",
     "text": [
      "[[0 0 0]\n",
      " [0 0 0]]\n"
     ]
    }
   ],
   "source": [
    "print(var-var1)"
   ]
  },
  {
   "cell_type": "code",
   "execution_count": 85,
   "id": "cf7b64fa-16cd-4382-84c9-9fb7873ca7db",
   "metadata": {},
   "outputs": [
    {
     "name": "stdout",
     "output_type": "stream",
     "text": [
      "[[3 6]\n",
      " [3 6]]\n",
      "\n",
      "[[3 6]\n",
      " [3 6]]\n"
     ]
    }
   ],
   "source": [
    "var = np.matrix([[1,2],[1,2]])\n",
    "\n",
    "var1 = np.matrix([[1,2],[1,2]])\n",
    "\n",
    "print(var.dot(var1))\n",
    "print()\n",
    "print(var*var1)"
   ]
  },
  {
   "cell_type": "markdown",
   "id": "ddeeb36d-b3e4-4edf-9880-f895df1561c0",
   "metadata": {},
   "source": [
    "# Matrix function"
   ]
  },
  {
   "cell_type": "markdown",
   "id": "d61c1f72-fa60-46da-a0ef-e5d0fe5f3924",
   "metadata": {},
   "source": [
    "# 1. Transpose"
   ]
  },
  {
   "cell_type": "code",
   "execution_count": 90,
   "id": "21005eaa-517f-4658-98ed-1a76fd86b0a2",
   "metadata": {},
   "outputs": [
    {
     "name": "stdout",
     "output_type": "stream",
     "text": [
      "[[1 4]\n",
      " [2 5]\n",
      " [3 6]]\n",
      "[[1 4]\n",
      " [2 5]\n",
      " [3 6]]\n"
     ]
    }
   ],
   "source": [
    "var = np.matrix([[1,2,3],[4,5,6]])\n",
    "\n",
    "print(np.transpose(var))\n",
    "print(var.T)"
   ]
  },
  {
   "cell_type": "markdown",
   "id": "184dcb5b-d527-4dee-b341-b194cda2efe7",
   "metadata": {},
   "source": [
    "# 2. Swapaxes"
   ]
  },
  {
   "cell_type": "code",
   "execution_count": 91,
   "id": "01bd9b36-8ab5-47f7-ba22-8aa551da3878",
   "metadata": {},
   "outputs": [
    {
     "name": "stdout",
     "output_type": "stream",
     "text": [
      "[[1 4]\n",
      " [2 5]]\n"
     ]
    }
   ],
   "source": [
    "var = np.matrix([[1,2],[4,5]])\n",
    "\n",
    "print(np.swapaxes(var,0,1))"
   ]
  },
  {
   "cell_type": "markdown",
   "id": "0afea188-28b5-429f-8077-1fff749e0ffe",
   "metadata": {},
   "source": [
    "# 3. Inverse\n"
   ]
  },
  {
   "cell_type": "code",
   "execution_count": 92,
   "id": "77b88e76-0445-4954-add6-eefd8aea0ab3",
   "metadata": {},
   "outputs": [
    {
     "name": "stdout",
     "output_type": "stream",
     "text": [
      "[[-1.66666667  0.66666667]\n",
      " [ 1.33333333 -0.33333333]]\n"
     ]
    }
   ],
   "source": [
    "print(np.linalg.inv(var))"
   ]
  },
  {
   "cell_type": "markdown",
   "id": "c5e48219-1b8d-411b-a6f8-303c77423959",
   "metadata": {},
   "source": [
    "# 4. Power"
   ]
  },
  {
   "cell_type": "code",
   "execution_count": 94,
   "id": "9571711a-7517-44fb-845e-427cd2e0a796",
   "metadata": {},
   "outputs": [
    {
     "name": "stdout",
     "output_type": "stream",
     "text": [
      "[[ 57  78]\n",
      " [156 213]]\n",
      "[[-7.88888889  2.88888889]\n",
      " [ 5.77777778 -2.11111111]]\n",
      "[[1 0]\n",
      " [0 1]]\n"
     ]
    }
   ],
   "source": [
    "print(np.linalg.matrix_power(var,3))\n",
    "print(np.linalg.matrix_power(var,-3))\n",
    "print(np.linalg.matrix_power(var,0))"
   ]
  },
  {
   "cell_type": "markdown",
   "id": "736a71ba-fab4-44ea-900b-039b4cad4b3e",
   "metadata": {},
   "source": [
    "# 5. Determinate"
   ]
  },
  {
   "cell_type": "code",
   "execution_count": 95,
   "id": "1472fa94-fbf8-45ef-879e-cfad7164aa7f",
   "metadata": {},
   "outputs": [
    {
     "name": "stdout",
     "output_type": "stream",
     "text": [
      "-2.9999999999999996\n"
     ]
    }
   ],
   "source": [
    "print(np.linalg.det(var))"
   ]
  },
  {
   "cell_type": "markdown",
   "id": "5a87aad2-2c3a-4ed8-8ecd-f4567c5b5787",
   "metadata": {},
   "source": [
    "# Thats All to Numpy "
   ]
  },
  {
   "cell_type": "markdown",
   "id": "5fc3e107-be0f-4724-89a9-320ba6c2648c",
   "metadata": {},
   "source": [
    "# See you later 👋"
   ]
  }
 ],
 "metadata": {
  "kernelspec": {
   "display_name": "Python 3 (ipykernel)",
   "language": "python",
   "name": "python3"
  },
  "language_info": {
   "codemirror_mode": {
    "name": "ipython",
    "version": 3
   },
   "file_extension": ".py",
   "mimetype": "text/x-python",
   "name": "python",
   "nbconvert_exporter": "python",
   "pygments_lexer": "ipython3",
   "version": "3.13.1"
  }
 },
 "nbformat": 4,
 "nbformat_minor": 5
}
