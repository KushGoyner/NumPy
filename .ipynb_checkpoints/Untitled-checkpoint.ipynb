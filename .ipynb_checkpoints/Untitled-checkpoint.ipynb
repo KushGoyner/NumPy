{
 "cells": [
  {
   "cell_type": "code",
   "execution_count": 10,
   "id": "b674ac64-8ff0-4cd7-b87e-ec5695cac600",
   "metadata": {},
   "outputs": [
    {
     "name": "stdout",
     "output_type": "stream",
     "text": [
      "48.9 μs ± 1.79 μs per loop (mean ± std. dev. of 7 runs, 10,000 loops each)\n"
     ]
    }
   ],
   "source": [
    "%timeit [j**4 for j in range(1,1000)]"
   ]
  },
  {
   "cell_type": "code",
   "execution_count": 11,
   "id": "b0705013-cc04-4036-81ed-2ba62e29387b",
   "metadata": {},
   "outputs": [
    {
     "name": "stdout",
     "output_type": "stream",
     "text": [
      "2.72 μs ± 68.3 ns per loop (mean ± std. dev. of 7 runs, 100,000 loops each)\n"
     ]
    }
   ],
   "source": [
    "import numpy as np\n",
    "%timeit np.arange(1,1000)**4"
   ]
  },
  {
   "cell_type": "markdown",
   "id": "d6157129-b8c6-4d8a-b0b8-4351716cf291",
   "metadata": {},
   "source": [
    "# Arrays"
   ]
  },
  {
   "cell_type": "code",
   "execution_count": null,
   "id": "c4f51478-c481-42bf-88e2-b76b8126b8a0",
   "metadata": {},
   "outputs": [],
   "source": [
    "import numpy as np\n",
    "%timeit a = np.array([1, 2, 3])\n",
    "print(a)"
   ]
  },
  {
   "cell_type": "code",
   "execution_count": 17,
   "id": "43a03eba-6749-4d29-8c1a-741c467232cf",
   "metadata": {},
   "outputs": [
    {
     "data": {
      "text/plain": [
       "array([1, 2, 3, 4])"
      ]
     },
     "execution_count": 17,
     "metadata": {},
     "output_type": "execute_result"
    }
   ],
   "source": [
    "import numpy as np\n",
    "c = [1,2,3,4]\n",
    "y = np.array(c)\n",
    "y"
   ]
  },
  {
   "cell_type": "code",
   "execution_count": 20,
   "id": "bb602fd4-3002-402c-8975-ef689425df40",
   "metadata": {},
   "outputs": [
    {
     "name": "stdin",
     "output_type": "stream",
     "text": [
      "Enter a value:  1\n",
      "Enter a value:  2\n",
      "Enter a value:  3\n",
      "Enter a value:  4\n"
     ]
    },
    {
     "name": "stdout",
     "output_type": "stream",
     "text": [
      "[1 2 3 4]\n"
     ]
    }
   ],
   "source": [
    "l = []\n",
    "for i in range(1,5):\n",
    "    int_1 = int(input(\"Enter a value: \"))\n",
    "    l.append(int_1)\n",
    "print(np.array(l))"
   ]
  },
  {
   "cell_type": "markdown",
   "id": "ad97a0c8-d990-42a9-bdd1-b8af7a581496",
   "metadata": {},
   "source": [
    "# Types of Array"
   ]
  },
  {
   "cell_type": "code",
   "execution_count": 21,
   "id": "e0c2a389-daec-4120-b672-d5f9a70c323f",
   "metadata": {},
   "outputs": [
    {
     "name": "stdout",
     "output_type": "stream",
     "text": [
      "1\n"
     ]
    }
   ],
   "source": [
    "import numpy as np\n",
    "c = [1,2,3,4]\n",
    "y = np.array(c)\n",
    "print(y.ndim)"
   ]
  },
  {
   "cell_type": "code",
   "execution_count": 29,
   "id": "4ada98a9-be7b-4e94-818d-cc8ca53b406d",
   "metadata": {},
   "outputs": [
    {
     "name": "stdout",
     "output_type": "stream",
     "text": [
      "2\n",
      "[[1 2 3]\n",
      " [4 5 6]]\n"
     ]
    }
   ],
   "source": [
    "ar2 = np.array([[1,2,3],[4,5,6]])\n",
    "print(ar2.ndim)\n",
    "print(ar2)"
   ]
  },
  {
   "cell_type": "markdown",
   "id": "0073b4fd-c4f2-452d-82e9-7e8b5e8289ea",
   "metadata": {},
   "source": [
    "# Numpy Array using functions"
   ]
  },
  {
   "cell_type": "markdown",
   "id": "f6fe1409-7ee2-49d9-bb3c-55591dcad17b",
   "metadata": {},
   "source": [
    "# 1. zeroes Array"
   ]
  },
  {
   "cell_type": "code",
   "execution_count": 32,
   "id": "dd95369a-47b8-4dd3-8dae-61daeb84d8e7",
   "metadata": {},
   "outputs": [
    {
     "name": "stdout",
     "output_type": "stream",
     "text": [
      "[0. 0. 0. 0.] \n",
      " [[0. 0. 0. 0.]\n",
      " [0. 0. 0. 0.]\n",
      " [0. 0. 0. 0.]]\n"
     ]
    }
   ],
   "source": [
    "ar_zero = np.zeros(4)\n",
    "ar1 = np.zeros((3,4))\n",
    "print(ar_zero,\"\\n\",ar1)"
   ]
  },
  {
   "cell_type": "markdown",
   "id": "36244066-0bfd-4033-8b88-9c9f3a870120",
   "metadata": {},
   "source": [
    "# 2. Ones Array"
   ]
  },
  {
   "cell_type": "code",
   "execution_count": 33,
   "id": "7f64e960-a774-425f-8298-30b9f54b0890",
   "metadata": {},
   "outputs": [
    {
     "name": "stdout",
     "output_type": "stream",
     "text": [
      "[[1. 1. 1. 1.]\n",
      " [1. 1. 1. 1.]\n",
      " [1. 1. 1. 1.]]\n"
     ]
    }
   ],
   "source": [
    "ar = np.ones((3,4))\n",
    "print(ar)"
   ]
  },
  {
   "cell_type": "code",
   "execution_count": 38,
   "id": "e78f0665-1bfb-4150-8b50-b3785732240a",
   "metadata": {},
   "outputs": [
    {
     "name": "stdout",
     "output_type": "stream",
     "text": [
      "[0 1 2 3]\n"
     ]
    }
   ],
   "source": [
    "a = np.arange(0,4)\n",
    "print(a)"
   ]
  },
  {
   "cell_type": "code",
   "execution_count": 45,
   "id": "fef67771-0a9a-4b3f-8e88-b9d5d1aaf114",
   "metadata": {},
   "outputs": [
    {
     "data": {
      "text/plain": [
       "array([0.49794223, 0.65132853])"
      ]
     },
     "execution_count": 45,
     "metadata": {},
     "output_type": "execute_result"
    }
   ],
   "source": [
    "a = np.random.ranf(2)\n",
    "a"
   ]
  },
  {
   "cell_type": "code",
   "execution_count": 47,
   "id": "12a6ea8f-9eec-46d8-b2b0-0db92706e88e",
   "metadata": {},
   "outputs": [
    {
     "data": {
      "text/plain": [
       "array([3, 6, 2, 2, 3, 4, 4, 5, 6, 4], dtype=int32)"
      ]
     },
     "execution_count": 47,
     "metadata": {},
     "output_type": "execute_result"
    }
   ],
   "source": [
    "a  = np.random.randint(1,10,10)\n",
    "a"
   ]
  },
  {
   "cell_type": "markdown",
   "id": "e5aa48be-9065-4e93-85f9-dd7ab313ace5",
   "metadata": {},
   "source": [
    "# Data types in Arrays"
   ]
  },
  {
   "cell_type": "code",
   "execution_count": 49,
   "id": "31365a68-5bb3-49f9-b652-d261c99d3c78",
   "metadata": {},
   "outputs": [
    {
     "name": "stdout",
     "output_type": "stream",
     "text": [
      "DATA TYPE:  int64\n"
     ]
    }
   ],
   "source": [
    "var = np.array([1,2,3,4])\n",
    "print(\"DATA TYPE: \",var.dtype)"
   ]
  },
  {
   "cell_type": "code",
   "execution_count": 50,
   "id": "2d8d0ed9-950e-4ef0-9801-a2c3b5347454",
   "metadata": {},
   "outputs": [
    {
     "name": "stdout",
     "output_type": "stream",
     "text": [
      "DATA TYPE:  float64\n"
     ]
    }
   ],
   "source": [
    "a = np.array([1.2,1.3,1.4,1.5])\n",
    "print(\"DATA TYPE: \",a.dtype)"
   ]
  },
  {
   "cell_type": "code",
   "execution_count": 51,
   "id": "2b11b246-c0ba-4c11-b321-06ef015b11cf",
   "metadata": {},
   "outputs": [
    {
     "name": "stdout",
     "output_type": "stream",
     "text": [
      "DATA TYPE:  <U1\n"
     ]
    }
   ],
   "source": [
    "a = np.array([\"A\",\"B\",\"C\"])\n",
    "print(\"DATA TYPE: \",a.dtype)"
   ]
  },
  {
   "cell_type": "code",
   "execution_count": 52,
   "id": "149eb272-da07-4e7d-a934-959f6dacbe96",
   "metadata": {},
   "outputs": [
    {
     "name": "stdout",
     "output_type": "stream",
     "text": [
      "DATA TYPE:  <U32\n"
     ]
    }
   ],
   "source": [
    "a = np.array([1.2,1.3,1.4,1.5,\"a\",\"B\",\"C\"])\n",
    "print(\"DATA TYPE: \",a.dtype)"
   ]
  },
  {
   "cell_type": "code",
   "execution_count": 57,
   "id": "3ad8bc1d-7110-43b7-9ae3-822dfae4ac27",
   "metadata": {},
   "outputs": [
    {
     "data": {
      "text/plain": [
       "dtype('float32')"
      ]
     },
     "execution_count": 57,
     "metadata": {},
     "output_type": "execute_result"
    }
   ],
   "source": [
    " A = np.array([1,2,3],dtype=\"f\")\n",
    "A.dtype"
   ]
  },
  {
   "cell_type": "code",
   "execution_count": 60,
   "id": "41686ed9-3f55-4f03-8dbb-2a976b863228",
   "metadata": {},
   "outputs": [
    {
     "name": "stdout",
     "output_type": "stream",
     "text": [
      "[1. 2. 3.]\n"
     ]
    },
    {
     "data": {
      "text/plain": [
       "dtype('float32')"
      ]
     },
     "execution_count": 60,
     "metadata": {},
     "output_type": "execute_result"
    }
   ],
   "source": [
    "new = np.float32(A)\n",
    "print(new)\n",
    "new.dtype"
   ]
  },
  {
   "cell_type": "code",
   "execution_count": 62,
   "id": "08a49f59-a788-4bf1-8697-ecaa76508049",
   "metadata": {},
   "outputs": [
    {
     "name": "stdout",
     "output_type": "stream",
     "text": [
      "[1 2 3 4]\n",
      "[1. 2. 3. 4.]\n"
     ]
    }
   ],
   "source": [
    "x3 = np.array([1,2,3,4])\n",
    "new_1 = x3.astype(float)\n",
    "print(x3)\n",
    "print(new_1)\n"
   ]
  },
  {
   "cell_type": "markdown",
   "id": "1d7c3e12-4c63-46da-81f6-380971dcfa76",
   "metadata": {},
   "source": [
    "# Arithmetic Operation in Numpy Arrays"
   ]
  },
  {
   "cell_type": "markdown",
   "id": "bd7c994b-fbd0-459f-a367-902d1c7e65ab",
   "metadata": {},
   "source": [
    "# 1. Addition"
   ]
  },
  {
   "cell_type": "code",
   "execution_count": 65,
   "id": "c8ffc6cf-e10c-48af-a18f-876f896513be",
   "metadata": {},
   "outputs": [
    {
     "name": "stdout",
     "output_type": "stream",
     "text": [
      "[3 4 5 6]\n",
      "[2 4 6 8]\n"
     ]
    }
   ],
   "source": [
    "var = np.array([1,2,3,4])\n",
    "varadd = var + 2\n",
    "print(varadd)\n",
    "\n",
    "var2 = np.array([1,2,3,4])\n",
    "var3 = var + var2\n",
    "print(var3)"
   ]
  },
  {
   "cell_type": "markdown",
   "id": "c6069811-1a5b-412f-b575-e32e3e8cd959",
   "metadata": {},
   "source": [
    "# 2. Substraction"
   ]
  },
  {
   "cell_type": "code",
   "execution_count": 67,
   "id": "ac25610c-29de-44bb-834b-ecc90824f385",
   "metadata": {},
   "outputs": [
    {
     "name": "stdout",
     "output_type": "stream",
     "text": [
      "[-1  0  1  2]\n",
      "[0 0 0 0]\n"
     ]
    }
   ],
   "source": [
    "var = np.array([1,2,3,4])\n",
    "varadd = var - 2\n",
    "print(varadd)\n",
    "\n",
    "var2 = np.array([1,2,3,4])\n",
    "var3 = var - var2\n",
    "print(var3)"
   ]
  },
  {
   "cell_type": "markdown",
   "id": "b16c8b4b-33db-48cd-b591-0a081317cfff",
   "metadata": {},
   "source": [
    "# 3. Multiply"
   ]
  },
  {
   "cell_type": "code",
   "execution_count": 68,
   "id": "60eab7ff-de9f-4e2f-8b8c-da80907379ce",
   "metadata": {},
   "outputs": [
    {
     "name": "stdout",
     "output_type": "stream",
     "text": [
      "[2 4 6 8]\n",
      "[ 1  4  9 16]\n"
     ]
    }
   ],
   "source": [
    "var = np.array([1,2,3,4])\n",
    "varadd = var * 2\n",
    "print(varadd)\n",
    "\n",
    "var2 = np.array([1,2,3,4])\n",
    "var3 = var * var2\n",
    "print(var3)"
   ]
  },
  {
   "cell_type": "markdown",
   "id": "1be1b77f-11db-4e1e-a8f3-dfc3580e46f9",
   "metadata": {},
   "source": [
    "# 4. Divide"
   ]
  },
  {
   "cell_type": "code",
   "execution_count": 71,
   "id": "d17cf78f-cfd8-45f7-afdc-cab6d3dba848",
   "metadata": {},
   "outputs": [
    {
     "name": "stdout",
     "output_type": "stream",
     "text": [
      "[0.5 1.  1.5 2. ]\n",
      "[1. 1. 1. 1.]\n"
     ]
    }
   ],
   "source": [
    "var = np.array([1,2,3,4])\n",
    "varadd = var / 2\n",
    "print(varadd)\n",
    "\n",
    "var2 = np.array([1,2,3,4])\n",
    "var3 = var / var2\n",
    "print(var3)"
   ]
  },
  {
   "cell_type": "markdown",
   "id": "11fb7b93-230f-4106-b89d-4516654fe9a3",
   "metadata": {},
   "source": [
    "# Modulas"
   ]
  },
  {
   "cell_type": "code",
   "execution_count": 72,
   "id": "c9751f40-c6a1-473b-9356-aad6e16b35d3",
   "metadata": {},
   "outputs": [
    {
     "name": "stdout",
     "output_type": "stream",
     "text": [
      "[1 0 1 0]\n",
      "[0 0 0 0]\n"
     ]
    }
   ],
   "source": [
    "var = np.array([1,2,3,4])\n",
    "varadd = var % 2\n",
    "print(varadd)\n",
    "\n",
    "var2 = np.array([1,2,3,4])\n",
    "var3 = var % var2\n",
    "print(var3)"
   ]
  },
  {
   "cell_type": "markdown",
   "id": "34f7650b-dc2d-40db-b55e-f76b812c4ed6",
   "metadata": {},
   "source": [
    "# Arithmetic functions"
   ]
  },
  {
   "cell_type": "markdown",
   "id": "29acb118-d4fe-4f90-9083-d60df6bb148f",
   "metadata": {},
   "source": [
    "# 1. min and max"
   ]
  },
  {
   "cell_type": "code",
   "execution_count": 74,
   "id": "1010ebba-a9ae-4965-8b92-24117461e7a4",
   "metadata": {},
   "outputs": [
    {
     "name": "stdout",
     "output_type": "stream",
     "text": [
      "1\n",
      "4\n"
     ]
    }
   ],
   "source": [
    "var = np.array([1,2,3,4])\n",
    "print(np.min(var))\n",
    "print(np.max(var))"
   ]
  },
  {
   "cell_type": "markdown",
   "id": "59b3dece-375c-4d9c-8055-3b61419ec1a4",
   "metadata": {},
   "source": [
    "# 2. Other function"
   ]
  },
  {
   "cell_type": "code",
   "execution_count": 76,
   "id": "d033a8a4-4d41-4c43-a004-94382d5232d5",
   "metadata": {},
   "outputs": [
    {
     "name": "stdout",
     "output_type": "stream",
     "text": [
      "0\n",
      "3\n",
      "[1.         1.41421356 1.73205081 2.        ]\n",
      "[ 0.84147098  0.90929743  0.14112001 -0.7568025 ]\n",
      "[ 0.54030231 -0.41614684 -0.9899925  -0.65364362]\n",
      "[ 1  3  6 10]\n"
     ]
    }
   ],
   "source": [
    "var = np.array([1,2,3,4])\n",
    "print(np.argmin(var))\n",
    "print(np.argmax(var))\n",
    "print(np.sqrt(var))\n",
    "print(np.sin(var))\n",
    "print(np.cos(var))\n",
    "print(np.cumsum(var))"
   ]
  },
  {
   "cell_type": "code",
   "execution_count": null,
   "id": "fba98b70-179c-4af6-9482-79b69675338f",
   "metadata": {},
   "outputs": [],
   "source": []
  },
  {
   "cell_type": "code",
   "execution_count": null,
   "id": "6ef41f6e-c67a-44c9-8770-5587cf7e0d53",
   "metadata": {},
   "outputs": [],
   "source": []
  }
 ],
 "metadata": {
  "kernelspec": {
   "display_name": "Python 3 (ipykernel)",
   "language": "python",
   "name": "python3"
  },
  "language_info": {
   "codemirror_mode": {
    "name": "ipython",
    "version": 3
   },
   "file_extension": ".py",
   "mimetype": "text/x-python",
   "name": "python",
   "nbconvert_exporter": "python",
   "pygments_lexer": "ipython3",
   "version": "3.13.1"
  }
 },
 "nbformat": 4,
 "nbformat_minor": 5
}
